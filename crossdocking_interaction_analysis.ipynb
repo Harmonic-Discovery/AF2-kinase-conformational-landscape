{
 "cells": [
  {
   "cell_type": "code",
   "execution_count": 1,
   "metadata": {},
   "outputs": [],
   "source": [
    "import os\n",
    "import pandas as pd\n",
    "import numpy as np\n",
    "\n",
    "import seaborn as sns\n",
    "import matplotlib.pyplot as plt\n",
    "\n",
    "import MDAnalysis as mda\n",
    "import mdtraj as md\n",
    "from Bio import SeqIO\n"
   ]
  },
  {
   "cell_type": "markdown",
   "metadata": {},
   "source": [
    "## Functions"
   ]
  },
  {
   "cell_type": "code",
   "execution_count": 2,
   "metadata": {},
   "outputs": [],
   "source": [
    "def interacting_residues(prot): \n",
    "\n",
    "    f = open(prot+'.xml', 'r')\n",
    "    residues = []\n",
    "    for line in f:\n",
    "        if 'contact=\"True\"' in line:\n",
    "            ls = line.split('>')\n",
    "            result = ''.join([i for i in ls[1] if  i.isdigit()])\n",
    "            residues.append(result)\n",
    "            \n",
    "    return residues"
   ]
  },
  {
   "cell_type": "code",
   "execution_count": 3,
   "metadata": {},
   "outputs": [],
   "source": [
    "def prot_res_nums(name):\n",
    "    pdb = open(name+'.pdb', 'r')\n",
    "    c = 0 \n",
    "    res_num = 0\n",
    "    for line in pdb: \n",
    "        ls = line.split()\n",
    "        if ls[0] == 'ATOM':\n",
    "            res_num_tmp = int(ls[5])\n",
    "            if c == 0:\n",
    "                start_res = int(ls[5]) \n",
    "                c += 1\n",
    "            if res_num_tmp > res_num:\n",
    "                res_num = res_num_tmp\n",
    "\n",
    "    pdb.close()\n",
    "    \n",
    "    return res_num, start_res"
   ]
  },
  {
   "cell_type": "code",
   "execution_count": 4,
   "metadata": {},
   "outputs": [],
   "source": [
    "def fill_array(res_num, residues):\n",
    "    full_plif_string = np.zeros(int(res_num))\n",
    "    for i in residues:\n",
    "        full_plif_string[int(i)-1] = 1\n",
    "    \n",
    "    return full_plif_string"
   ]
  },
  {
   "cell_type": "code",
   "execution_count": 5,
   "metadata": {},
   "outputs": [],
   "source": [
    "def plif_tanimoto(xtal, pred):\n",
    "    onA = np.where(xtal == 1)\n",
    "    onB = np.where(pred == 1)\n",
    "    onBoth = len(set(onA[0]) & set(onB[0]))\n",
    "    onlyA = len(list(set(onA[0]) - set(onB[0])))\n",
    "    onlyB = len(list(set(onB[0]) - set(onA[0])))\n",
    "    ts = onBoth / (onlyA + onlyB + onBoth)\n",
    "\n",
    "    return ts"
   ]
  },
  {
   "cell_type": "code",
   "execution_count": null,
   "metadata": {},
   "outputs": [],
   "source": [
    "def align_sequences(reference, target, where):\n",
    "\n",
    "    # load pdb structures using mdanalysis \n",
    "    ref_ma = mda.Universe(where+'/'+reference+'.pdb')\n",
    "    target_ma = mda.Universe(where+'/'+target+'.pdb')\n",
    "\n",
    "    ref_resids = [a.resid for a in ref_ma.select_atoms('name CA')]\n",
    "    target_resids = [a.resid for a in target_ma.select_atoms('name CA')]\n",
    "\n",
    "    fasta = open(where+'/'+reference+'_'+target+'_fasta.txt', 'r')\n",
    "\n",
    "    seldict = mda.analysis.align.fasta2select(where+'/'+reference+'_'+target+'_fasta.txt', ref_resids=ref_resids, target_resids=target_resids)\n",
    "\n",
    "    l = str(seldict['reference']).split(') or (')\n",
    "    residues = []\n",
    "    for line in l:\n",
    "        ls = line.split(' ')\n",
    "        residues.append(int(ls[2]))\n",
    "\n",
    "    return residues"
   ]
  },
  {
   "cell_type": "code",
   "execution_count": null,
   "metadata": {},
   "outputs": [],
   "source": [
    "def write_fasta(reference, target, where):\n",
    "    for record in SeqIO.parse(where+'/'+reference+'.pdb', \"pdb-atom\"):\n",
    "        ref_seq = record.seq\n",
    "\n",
    "    for record in SeqIO.parse(where+'/'+target+'.pdb', \"pdb-atom\"):\n",
    "        mod_seq = record.seq\n",
    "\n",
    "    f = open(where+'/'+reference+'_'+target+'_fasta.txt', 'w')\n",
    "    f.write('> '+reference+'\\n')\n",
    "    f.write((str(ref_seq)+'\\n'))\n",
    "    f.write('\\n')\n",
    "    f.write('> '+target+'\\n')\n",
    "    f.write((str(mod_seq)+'\\n'))\n",
    "    f.close()"
   ]
  },
  {
   "cell_type": "code",
   "execution_count": null,
   "metadata": {},
   "outputs": [],
   "source": [
    "def trim_reference(reference, residues, where):\n",
    "\n",
    "    ref = md.load(where+'/'+reference+'.pdb')\n",
    "    ref_top = ref.topology\n",
    "    ref_df, _ = ref_top.to_dataframe()\n",
    "    ref_df_cut = ref_df[ref_df['resSeq'].isin(residues)]\n",
    "    ref_cut = ref.atom_slice(ref_df_cut['serial'])\n",
    "    ref_cut.save_pdb(where+'/'+reference+'_trim.pdb')"
   ]
  },
  {
   "cell_type": "markdown",
   "metadata": {},
   "source": [
    "# Calculate the fingerprint for crystal ligands (reference)\n",
    "The code below is meant to show the steps used to compute the fingerprint similarities. It does need all the docking poses to run, hence, it is only for following the steps, not to run. If you wanto to just replicate the plot, please go to the last part of this notebook. "
   ]
  },
  {
   "cell_type": "markdown",
   "metadata": {},
   "source": [
    "First we load the kinases that we will be analyzing in this study."
   ]
  },
  {
   "cell_type": "code",
   "execution_count": null,
   "metadata": {},
   "outputs": [],
   "source": [
    "file = open('../data/metadata_af_plip.csv', 'r')\n",
    "ref_prots = []\n",
    "for line in file:\n",
    "    fs = line.split(',')\n",
    "    ref_prot = fs[1]\n",
    "    ref_prots.append(ref_prot)\n",
    "file.close()"
   ]
  },
  {
   "cell_type": "code",
   "execution_count": null,
   "metadata": {},
   "outputs": [],
   "source": [
    "file = open('../data/metadata_af_plip.csv', 'r')\n",
    "prots = []\n",
    "for line in file:\n",
    "    fs = line.split(',')\n",
    "    prot = fs[0]\n",
    "    prots.append(prot)\n",
    "file.close()"
   ]
  },
  {
   "cell_type": "markdown",
   "metadata": {},
   "source": [
    "#### List of proteins, and corresponding states used in the study\n",
    "['GSK3B_cidi', 'PAK5_cidi', 'VRK1_cidi', 'AKT2_cidi', 'HCK_codi', 'DAPK3_cidi', 'NEK2_codi', 'ALK_cidi', 'CDK6_codi', 'ABL1_cidi', 'BTK_codi', 'SRC_codi', 'PKN1_cidi', 'PAK4_cidi', 'CDK8_cidi', 'LIMK1_cidi', 'CDKL1_cidi', 'PAK6_cidi', 'GAK_cidi', 'MELK_cidi', 'IRAK4_cidi', 'AKT1_cidi', 'IRAK1_cidi', 'CDK2_codi', 'DDR2_cido', 'PAK1_cidi', 'TNIK_cidi', 'TTBK2_cidi', 'ULK1_cidi', 'TTBK1_cidi', 'CLK2_cidi', 'PIM1_cidi', 'TTK_cidi', 'PLK2_cidi', 'DCLK1_cidi', 'ITK_codi', 'CDK5_cidi', 'ULK3_cidi', 'CLK3_cidi', 'EGFR_codi', 'MLKL_codi', 'PIM2_cidi', 'DDR1_cido', 'HIPK2_cidi', 'PLK1_cidi', 'ROCK1_cidi', 'DAPK1_cidi']\n",
    "\n",
    "For each of these kinases and the corresponding crystal structures were prepared for calculation of the protein ligand interaction fingerprint using plip. The files with all the combinations explored are the inputs and are loaded in the last section of this notebook"
   ]
  },
  {
   "cell_type": "code",
   "execution_count": 44,
   "metadata": {},
   "outputs": [],
   "source": [
    "for ref_prot in ref_prots:\n",
    "    os.system('cat ../data/pose_accuracy-data/%s_trim.pdb ../data/pose_accuracy-data/%s_ligand.pdb > ../data/pose_accuracy-data/%s_trim_ligand.pdb'%(ref_prot, ref_prot, ref_prot))\n",
    "    c = 0 \n",
    "    f = open('../data/pose_accuracy-data/%s_trim_ligand.pdb'%(ref_prot), 'r')\n",
    "    w = open('../data/pose_accuracy-data/%s_trim_ligand_cut.pdb'%(ref_prot), 'w')\n",
    "    for line in f: \n",
    "        ls = line.split()\n",
    "        if ls[0] == 'ATOM' or ls[0] == 'HETATM':\n",
    "            w.write(line)\n",
    "        if ls[0] == 'END':\n",
    "            if c == 0:\n",
    "                w.write('TER\\n')\n",
    "                c +=1 \n",
    "            else:\n",
    "                w.write('END\\n')\n",
    "    w.close()\n",
    "    f.close()\n",
    "                \n",
    "    os.system('plip -f ../data/pose_accuracy-data/%s_trim_ligand_cut.pdb -x -q -o ../plips/ --name %s_xtal_plif '%(ref_prot, ref_prot))"
   ]
  },
  {
   "cell_type": "markdown",
   "metadata": {},
   "source": [
    "# Calculate fingerprints for docked pose in AF structures\n",
    "Below is an example of the steps involved into the analysis of interaction similarity.\n",
    "\n",
    "### 1. Split the docked output into individual files "
   ]
  },
  {
   "cell_type": "code",
   "execution_count": null,
   "metadata": {},
   "outputs": [],
   "source": [
    "for prot in prots:\n",
    "    try:\n",
    "        os.system('obabel -isdf ../pose_accuracy/%s-docked.sdf -O ../pose_accuracy/%s-pose_.pdb -m' % (prot, prot))\n",
    "    except:\n",
    "        continue"
   ]
  },
  {
   "cell_type": "markdown",
   "metadata": {},
   "source": [
    "### 2. Merge docked poses with corresponding protein\n",
    "To make aplip prediction on the docked pose we have to merge the docked pose and the protein files. The connections have to be stripped, and added TER instead at the end of first block"
   ]
  },
  {
   "cell_type": "code",
   "execution_count": 133,
   "metadata": {},
   "outputs": [],
   "source": [
    "for prot in prots:\n",
    "    for i in range(1,10):\n",
    "        c = 0 \n",
    "        os.system(\"cat ../data/pose_accuracy-data/'{0}'_AF_superposed.pdb ../pose_accuracy/'{0}'-pose_'{1}'.pdb > ../pose_accuracy/'{0}'_all-pose_'{1}'.pdb\".format(prot,str(i)))\n",
    "        f = open(\"../pose_accuracy/{0}_all-pose_{1}.pdb\".format(prot, str(i)), 'r')\n",
    "        w = open(\"../pose_accuracy/{0}_all-pose_{1}_cut.pdb\".format(prot, str(i)), 'w')\n",
    "        for line in f: \n",
    "            ls = line.split()\n",
    "            if ls[0] == 'ATOM' or ls[0] == 'HETATM':\n",
    "                w.write(line)\n",
    "            if ls[0] == 'END':\n",
    "                if c == 0:\n",
    "                    w.write('TER\\n')\n",
    "                    c +=1 \n",
    "                else:\n",
    "                    w.write('END\\n')\n",
    "        w.close()\n",
    "        f.close()     "
   ]
  },
  {
   "cell_type": "markdown",
   "metadata": {},
   "source": [
    "### 3. Computing protein ligand interaction fingerprint using plip. "
   ]
  },
  {
   "cell_type": "code",
   "execution_count": 135,
   "metadata": {},
   "outputs": [],
   "source": [
    "for prot in prots:\n",
    "    for i in range(1,10):\n",
    "        os.system('plip -f ../pose_accuracy/{0}_all-pose_{1}_cut.pdb -x -q -o ../plips/ --name {2}-docked-pose_{3}_plif'.format(prot, str(i), prot, str(i)))        "
   ]
  },
  {
   "cell_type": "markdown",
   "metadata": {},
   "source": [
    "### 4. Computing PLIF similarity between docked pose and crystal"
   ]
  },
  {
   "cell_type": "code",
   "execution_count": null,
   "metadata": {},
   "outputs": [],
   "source": [
    "ts = []\n",
    "ts_prots = []\n",
    "ts_states = []\n",
    "# get interaction fingerprint for the crystal\n",
    "for p in range(len(ref_prots)):\n",
    "    ts_prots.append(prots[p])\n",
    "    xtal_res_num, xtal_start_res = prot_res_nums('../data/pose_accuracy-data/'+ref_prots[p]+'_trim')\n",
    "    xtal_interacting_residues = interacting_residues('../plips/'+ref_prots[p]+'_xtal_plif')\n",
    "    xtal_interacting_residues_norm = [(int(i) - xtal_start_res) for i in xtal_interacting_residues]\n",
    "    xtal_plif = fill_array(xtal_res_num-xtal_start_res, xtal_interacting_residues_norm)    \n",
    "    pred_res_num, pred_start_res = prot_res_nums('../data/pose_accuracy-data/'+prots[p]+'_AF_superposed')\n",
    "    pt = 0\n",
    "\n",
    "    #get interaction fingerprint for the docked pose in AF structure\n",
    "    for pose in range(1,10):       \n",
    "        pred_res_num, pred_start_res = prot_res_nums('../data/pose_accuracy-data/'+prots[p]+'_AF_superposed')\n",
    "        pred_interacting_residues = interacting_residues('../plips/'+prots[p]+'-docked-pose_'+str(pose)+'_plif')            \n",
    "        pred_interacting_residues_norm = [(int(i) - pred_start_res) for i in pred_interacting_residues]\n",
    "        pred_plif = fill_array(pred_res_num-pred_start_res, pred_interacting_residues_norm)\n",
    "        print('pred interacting residues in AF '+prots[p]+': '+str(pred_interacting_residues_norm))\n",
    "        pt_pose = plif_tanimoto(xtal_plif, pred_plif) # compute similarity\n",
    "        \n",
    "        # retain best pose\n",
    "        if pt_pose > pt:\n",
    "            pt = pt_pose\n",
    "            \n",
    "    ts.append(pt)"
   ]
  },
  {
   "cell_type": "markdown",
   "metadata": {},
   "source": [
    "Extract conformational states for plotting"
   ]
  },
  {
   "cell_type": "code",
   "execution_count": 186,
   "metadata": {},
   "outputs": [],
   "source": [
    "# Extract conformational states for plotting\n",
    "states  = []\n",
    "for s in prots:\n",
    "    ls = s.split('_')\n",
    "    states.append(ls[1])"
   ]
  },
  {
   "cell_type": "markdown",
   "metadata": {},
   "source": [
    "Consolidate into dataframe"
   ]
  },
  {
   "cell_type": "code",
   "execution_count": 187,
   "metadata": {},
   "outputs": [
    {
     "data": {
      "text/html": [
       "<div>\n",
       "<style scoped>\n",
       "    .dataframe tbody tr th:only-of-type {\n",
       "        vertical-align: middle;\n",
       "    }\n",
       "\n",
       "    .dataframe tbody tr th {\n",
       "        vertical-align: top;\n",
       "    }\n",
       "\n",
       "    .dataframe thead th {\n",
       "        text-align: right;\n",
       "    }\n",
       "</style>\n",
       "<table border=\"1\" class=\"dataframe\">\n",
       "  <thead>\n",
       "    <tr style=\"text-align: right;\">\n",
       "      <th></th>\n",
       "      <th>States</th>\n",
       "      <th>Interactions similarity</th>\n",
       "    </tr>\n",
       "  </thead>\n",
       "  <tbody>\n",
       "    <tr>\n",
       "      <th>0</th>\n",
       "      <td>cidi</td>\n",
       "      <td>0.352941</td>\n",
       "    </tr>\n",
       "    <tr>\n",
       "      <th>1</th>\n",
       "      <td>cidi</td>\n",
       "      <td>0.200000</td>\n",
       "    </tr>\n",
       "    <tr>\n",
       "      <th>2</th>\n",
       "      <td>cidi</td>\n",
       "      <td>0.400000</td>\n",
       "    </tr>\n",
       "    <tr>\n",
       "      <th>3</th>\n",
       "      <td>cidi</td>\n",
       "      <td>0.416667</td>\n",
       "    </tr>\n",
       "    <tr>\n",
       "      <th>4</th>\n",
       "      <td>codi</td>\n",
       "      <td>0.545455</td>\n",
       "    </tr>\n",
       "  </tbody>\n",
       "</table>\n",
       "</div>"
      ],
      "text/plain": [
       "  States  Interactions similarity\n",
       "0   cidi                 0.352941\n",
       "1   cidi                 0.200000\n",
       "2   cidi                 0.400000\n",
       "3   cidi                 0.416667\n",
       "4   codi                 0.545455"
      ]
     },
     "execution_count": 187,
     "metadata": {},
     "output_type": "execute_result"
    }
   ],
   "source": [
    "df = pd.DataFrame(list(zip(states, ts)), columns=['States', 'Interactions similarity'])\n",
    "df.head()"
   ]
  },
  {
   "cell_type": "markdown",
   "metadata": {},
   "source": [
    "Plot"
   ]
  },
  {
   "cell_type": "code",
   "execution_count": 188,
   "metadata": {},
   "outputs": [
    {
     "data": {
      "image/png": "[encoded data removed]",
      "text/plain": [
       "<Figure size 432x288 with 1 Axes>"
      ]
     },
     "metadata": {
      "needs_background": "light"
     },
     "output_type": "display_data"
    }
   ],
   "source": [
    "sns.boxplot(data=df, x='States', y='Interactions similarity')\n",
    "plt.title('AF structures interactions similarity to Xtals')\n",
    "plt.savefig('AF_interaction_accuracy_from_docking_vs_xtals.jpg', dpi=300)"
   ]
  },
  {
   "cell_type": "markdown",
   "metadata": {},
   "source": [
    "# Evaluation of Re-docking performance of xtal structures"
   ]
  },
  {
   "cell_type": "markdown",
   "metadata": {},
   "source": [
    "The preprocessing of the docking results and calculation of the plip follows the same steps as the cross docking example above. This time each crystal ligand is re-docked only in its native structure. \n",
    "After preparing the file for plip (step 1 and 2 above) and computed the plif with plip (step 3), we are now ready to build the cross-docking comparisons.\n",
    "\n",
    "In the code below: \n",
    "- targets are the list of kinases. \n",
    "- all_prots is the list of that specifies all specific structures investigated for every kinase"
   ]
  },
  {
   "cell_type": "code",
   "execution_count": 55,
   "metadata": {},
   "outputs": [],
   "source": [
    "ts = []\n",
    "df_xtal_re =  pd.DataFrame(columns=['Kinase', 'prot PDB', 'lig PDB', 'States', 'Interactions similarity'])\n",
    "\n",
    "for t in range(len(targets)): # go over all the kinases\n",
    "    pt_target = 0\n",
    "    if targets[t] in cross_xtals_targets:\n",
    "        for prot in all_prots: # go over all structures\n",
    "            ps = prot.split('_')\n",
    "            if ps[0] == targets[t]: # make sure we are comparing the interaction within the same kinase\n",
    "                try:     \n",
    "                    xtal_res_num, _ = prot_res_nums('../data/pose_accuracy-data/'+prot)\n",
    "                    xtal_interacting_residues = interacting_residues('../data/pose_accuracy-data/'+prot+'_xtal_plif')\n",
    "                    xtal_plif = fill_array(xtal_res_num, xtal_interacting_residues)\n",
    "                    \n",
    "                    pt_prot = 0\n",
    "                    for pose in range(1,10):   \n",
    "                        pred_res_num, _ = prot_res_nums('../../benchmark/pose_accuracy/smina/baseline/'+prot+'_all-pose_'+str(pose)+'_cut')\n",
    "                        pred_interacting_residues = interacting_residues('../../benchmark/pose_accuracy/smina/baseline/'+prot+'-docked-pose_'+str(pose)+'_plif')\n",
    "                        pred_plif = fill_array(pred_res_num, pred_interacting_residues) \n",
    "                        pt_pose = plif_tanimoto(xtal_plif, pred_plif) #compute similarity \n",
    "\n",
    "                        # retain best pose\n",
    "                        if pt_pose > pt_prot:\n",
    "                            pt_prot = pt_pose\n",
    "\n",
    "                    df_tmp = pd.DataFrame(data = [[targets[t], 'xtal', prot, states[t], pt_prot]], columns=['Kinase', 'prot PDB', 'lig PDB', 'States', 'Interactions similarity'])\n",
    "                    df_xtal_re = pd.concat([df_xtal_re, df_tmp])\n",
    "                except:\n",
    "                    continue\n",
    "                        \n",
    "                if pt_prot > pt_target:\n",
    "                    pt_target = pt_prot\n",
    "            \n",
    "        ts.append(pt_target)"
   ]
  },
  {
   "cell_type": "markdown",
   "metadata": {},
   "source": [
    "# Evaluation of Cross-docking performance of xtal structures\n",
    "\n",
    "We performed the same steps as the example above but this time cross-docking the ligands crystallized in a kinase all the other crystal structures of the same kinase.\n",
    "The only additional step, as now we are comparing different structure which might have different lenght, hence different residue numbering, is for each kinase, to trim the structures to be all the the same length.\n",
    "\n",
    "In the code below: \n",
    "- targets are the list of kinases. \n",
    "- all_prots is the list of that specifies all specific structures investigated for every kinase"
   ]
  },
  {
   "cell_type": "code",
   "execution_count": null,
   "metadata": {},
   "outputs": [],
   "source": [
    "trim_failed = [] \n",
    "for t in range(len(targets)):\n",
    "    for prot in all_prots:\n",
    "        ps = prot.split('_')\n",
    "        if ps[0] == targets[t]:\n",
    "            reference = prot+'_prot'\n",
    "            modeled = targets[t]+'_'+states[t].lower()+'_AF_superposed_Hs'\n",
    "            try: \n",
    "                write_fasta(reference, modeled, '../data/pose_accuracy-data') #extract sequence\n",
    "                residues = align_sequences(reference, modeled, '../data/pose_accuracy-data') #align sequence\n",
    "                trim_reference(reference, residues, '../data/pose_accuracy-data') #trim structure to match the sequence\n",
    "            except:\n",
    "                trim_failed.append(prot)\n",
    "                continue"
   ]
  },
  {
   "cell_type": "markdown",
   "metadata": {},
   "source": [
    "After preparing the file for plip (step 1 and 2 above) and computed the plif with plip (step 3), we are now ready to build the cross-docking comparisons."
   ]
  },
  {
   "cell_type": "code",
   "execution_count": null,
   "metadata": {},
   "outputs": [],
   "source": [
    "df_to_plot = pd.DataFrame(columns=['Kinase', 'prot PDB', 'lig PDB', 'States', 'Interactions similarity'])\n",
    "for t in range(len(targets)):\n",
    "    pt_target = 0\n",
    "\n",
    "    for prot in all_prots: # Go over all the structures\n",
    "        if prot not in trim_failed: # Make sure that the protein sequence are aligned\n",
    "            ps = prot.split('_')\n",
    "\n",
    "            if ps[0] == targets[t]: # Verify that the structure we are analyzing is of the right kinase\n",
    "                try: \n",
    "                    xtal_res_num, xtal_start_res = prot_res_nums('../data/pose_accuracy-data/'+prot+'_prot_trim')\n",
    "                    xtal_interacting_residues = interacting_residues('../plips/xtals/'+prot+'_trim-ligand_plif')\n",
    "                    xtal_interacting_residues_norm = [(int(i) - xtal_start_res) for i in xtal_interacting_residues] #normalize the residue numbering\n",
    "                    xtal_plif = fill_array(xtal_res_num-xtal_start_res, xtal_interacting_residues_norm)    \n",
    "                    \n",
    "                    # compare to the other crystal structures of the same kinase\n",
    "                    for sec_prot in all_prots: \n",
    "                \n",
    "                        if sec_prot not in trim_failed: \n",
    "                            s_ps = sec_prot.split('_')\n",
    "\n",
    "                            if s_ps[0] == targets[t]:  \n",
    "                                if sec_prot != prot:\n",
    "                                    \n",
    "                                    # compare to the other crystal structures of the same kinase\n",
    "                                    pt_lig = 0\n",
    "                                    for pose in range(1,10):   \n",
    "                                        pred_res_num, pred_start_res = prot_res_nums('../data/pose_accuracy-data/'+sec_prot+'_prot_trim')\n",
    "                                        pred_interacting_residues = interacting_residues('../plips/xtal_cross/xtal_cross_plips/{0}_{1}_lig-docked-trim-pose_{2}_plif'.format(sec_prot, ps[1], pose))\n",
    "                                        pred_interacting_residues_norm = [(int(i) - pred_start_res) for i in pred_interacting_residues]\n",
    "                                        pred_plif = fill_array(pred_res_num-pred_start_res, pred_interacting_residues_norm)\n",
    "                                        pt_pose = plif_tanimoto(xtal_plif, pred_plif)\n",
    "                                        \n",
    "                                        # record_best pose\n",
    "                                        if pt_pose > pt_lig:\n",
    "                                            pt_lig = pt_pose\n",
    "\n",
    "                                    df_temp = pd.DataFrame(data = [[targets[t], s_ps[1], ps[1], s_ps[2], pt_lig]],columns=['Kinase', 'prot PDB', 'lig PDB', 'States', 'Interactions similarity'])\n",
    "                                    df_to_plot = pd.concat([df_to_plot, df_temp])\n",
    "                except:\n",
    "                    continue"
   ]
  },
  {
   "cell_type": "code",
   "execution_count": 31,
   "metadata": {},
   "outputs": [],
   "source": [
    "cross_xtals_targets = list(df_to_plot['Kinase'].unique())"
   ]
  },
  {
   "cell_type": "markdown",
   "metadata": {},
   "source": [
    "# Cross Docking to AF structures"
   ]
  },
  {
   "cell_type": "markdown",
   "metadata": {},
   "source": [
    "We follow the same steps above but on the docked files from docking crystal ligands to AF structures."
   ]
  },
  {
   "cell_type": "code",
   "execution_count": 29,
   "metadata": {},
   "outputs": [],
   "source": [
    "df_AF_to_plot = pd.DataFrame(columns=['Kinase', 'prot PDB', 'lig PDB', 'States', 'Interactions similarity'])\n",
    "cross_xtals_targets = list(df_to_plot['Kinase'].unique())\n",
    "\n",
    "for t in range(len(targets)):\n",
    "    if targets[t] in cross_xtals_targets:\n",
    "        pt_target = 0\n",
    "        for prot in all_prots: # Go over all the structures\n",
    "            if prot not in trim_failed: # Make sure that the protein sequence are aligned\n",
    "                ps = prot.split('_')\n",
    "\n",
    "                if ps[0] == targets[t]: #Verify that the structure we are analyzing is of the right kinase \n",
    "                    try:\n",
    "                        xtal_res_num, xtal_start_res = prot_res_nums('../data/pose_accuracy-data/'+prot+'_prot_trim')\n",
    "                        xtal_interacting_residues = interacting_residues('../plips/xtals/'+prot+'_trim-ligand_plif')\n",
    "                        xtal_interacting_residues_norm = [(int(i) - xtal_start_res) for i in xtal_interacting_residues]\n",
    "                        xtal_plif = fill_array(xtal_res_num-xtal_start_res, xtal_interacting_residues_norm)    \n",
    "\n",
    "                        # compare to the AF structure docked with the ligand of that the experimental structure\n",
    "                        pt_prot = 0\n",
    "                        for pose in range(1,10):   \n",
    "                            pred_res_num, pred_start_res = prot_res_nums('../data/pose_accuracy-data/'+targets[t]+'_'+states[t].lower()+'_AF_superposed_Hs')\n",
    "                            pred_interacting_residues = interacting_residues('../plips/AF_cross/{0}_{1}_{2}_lig-trim-pose_{3}_plif'.format(targets[t], states[t].lower(), ps[1], pose))\n",
    "                            pred_interacting_residues_norm = [(int(i) - pred_start_res) for i in pred_interacting_residues]\n",
    "                            pred_plif = fill_array(pred_res_num-pred_start_res, pred_interacting_residues_norm)\n",
    "                            pt_pose = plif_tanimoto(xtal_plif, pred_plif)\n",
    "\n",
    "                            # record best pose\n",
    "                            if pt_pose > pt_prot:\n",
    "                                pt_prot = pt_pose\n",
    "                \n",
    "                            df_temp = pd.DataFrame(data = [[targets[t], 'AF', ps[1], states[t], pt_prot]], columns=['Kinase', 'prot PDB', 'lig PDB', 'States', 'Interactions similarity'])\n",
    "                            df_AF_to_plot = pd.concat([df_AF_to_plot, df_temp])\n",
    "                    except:\n",
    "                        continue\n"
   ]
  },
  {
   "cell_type": "markdown",
   "metadata": {},
   "source": [
    "# Prepare final dataframe for plotting\n",
    "The code above produces the following data loaded below:"
   ]
  },
  {
   "cell_type": "code",
   "execution_count": 12,
   "metadata": {},
   "outputs": [],
   "source": [
    "df_xt_to_plot = pd.read_pickle('./inputs/Xtals_vs_Xtals_cross_docking_interactions.pkl')\n",
    "df_xtal_re = pd.read_pickle('inputs/Xtals_vs_Xtals_re_docking_interactions.pkl')\n",
    "df_AF_to_plot = pd.read_pickle('inputs/Xtals_ligs_vs_AF_cross_docking_interactions.pkl')"
   ]
  },
  {
   "cell_type": "code",
   "execution_count": 16,
   "metadata": {},
   "outputs": [],
   "source": [
    "# Add labels to dataframe for plotting\n",
    "df_xt_to_plot['Type'] = 'Cross Docking to Xtal' \n",
    "df_AF_to_plot['Type'] = 'Cross Docking to AF' \n",
    "df_xtal_re['Type'] = 'Re Docking to Xtal' "
   ]
  },
  {
   "cell_type": "code",
   "execution_count": 17,
   "metadata": {},
   "outputs": [],
   "source": [
    "# Concatenate\n",
    "df_tot = pd.concat([df_xt_to_plot, df_xtal_re, df_AF_to_plot])"
   ]
  },
  {
   "cell_type": "code",
   "execution_count": 15,
   "metadata": {},
   "outputs": [
    {
     "data": {
      "image/png": "[encoded data removed]",
      "text/plain": [
       "<Figure size 576x432 with 1 Axes>"
      ]
     },
     "metadata": {
      "needs_background": "light"
     },
     "output_type": "display_data"
    }
   ],
   "source": [
    "colors = [\"#1F77B4\",  \"#17BECF\", \"#2ca02c\"]\n",
    "customPalette = sns.set_palette(sns.color_palette(colors))\n",
    "\n",
    "# Create the box plot\n",
    "plt.figure(figsize=(8, 6))  # Adjust the figure size as needed\n",
    "ax = sns.boxplot(data=df_tot, x='States', y='Interactions similarity', hue='Type')\n",
    "\n",
    "# Move the legend outside the plot area\n",
    "sns.move_legend(ax, \"right\", bbox_to_anchor=(1.4, 0.5), ncol=1, title=None, frameon=False)\n",
    "\n",
    "# Set the y-axis limit\n",
    "plt.ylim(0, 1)\n",
    "\n",
    "# Set titles\n",
    "plt.suptitle('Docking Xtals ligands to AF/Xtals structures')\n",
    "plt.title('Pose interactions similarity vs xtal interactions')\n",
    "\n",
    "# Save the plot\n",
    "plt.savefig('Interaction_accuracy_from_docking_all.jpg', dpi=300, bbox_inches='tight')  # Use bbox_inches='tight' to prevent clipping\n"
   ]
  }
 ],
 "metadata": {
  "kernelspec": {
   "display_name": "opencadd",
   "language": "python",
   "name": "python3"
  },
  "language_info": {
   "codemirror_mode": {
    "name": "ipython",
    "version": 3
   },
   "file_extension": ".py",
   "mimetype": "text/x-python",
   "name": "python",
   "nbconvert_exporter": "python",
   "pygments_lexer": "ipython3",
   "version": "3.9.12"
  },
  "orig_nbformat": 4
 },
 "nbformat": 4,
 "nbformat_minor": 2
}
